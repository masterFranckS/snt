{
 "cells": [
  {
   "cell_type": "markdown",
   "metadata": {
    "id": "WcAsh09pL2Bx"
   },
   "source": [
    "# <center>Python : un langage de programmation</center><a class=\"tocSkip\">"
   ]
  },
  {
   "cell_type": "markdown",
   "metadata": {
    "heading_collapsed": true,
    "id": "bCC-7BJiL2B5"
   },
   "source": [
    "## Qu'est-ce qu'un langage de programmation ?\n",
    "***"
   ]
  },
  {
   "cell_type": "markdown",
   "metadata": {
    "hidden": true,
    "id": "YkfPATaTL2B7"
   },
   "source": [
    "Un **langage de programmation** est un ensemble de règles et de notations comprises à la fois par l'humain et la machine, et qui fournissent un moyen de dire à la machine quelles opérations exécuter.\n",
    "Cette liste d'ordres, écrite dans un fichier appelé **code source**, et indiquant à un ordinateur ce qu'il doit faire, s'appelle un **programme**.\n",
    "\n",
    "Comme un langage naturel, un langage de programmation possède des mots, des symboles et des règles de grammaire. Ces règles de grammaire constituent la **syntaxe** du langage de programmation et donc chaque langage de programmation possède sa propre syntaxe permettant la construction d'un programme.\n",
    "\n",
    "Dans la suite de ce cours, sauf mention contraire, le langage principalement utilisé dans les cellules de code pour les exemples, sera `Python 3`."
   ]
  },
  {
   "cell_type": "markdown",
   "metadata": {
    "id": "r3CCb3UbL2B8"
   },
   "source": [
    "## Unité des langages de programmation : les notions principales de programmation\n",
    "***"
   ]
  },
  {
   "cell_type": "markdown",
   "metadata": {
    "id": "kaZEdlSqL2B-"
   },
   "source": [
    "Pour écrire un programme, on peut utiliser des instructions assez basiques comme l'addition, la soustraction ou toute autre opération mathématique. Mais on peut également utiliser des instructions plus complexes comme des opérations permettant de comparer des valeurs, traiter des caractères, etc.\n",
    "Un langage de programmation offre alors un ensemble de notions qui peuvent être utilisées pour développer un programme et la plupart des langages de programmation ont des caractéristiques communes, présentées ci-dessous."
   ]
  },
  {
   "cell_type": "markdown",
   "metadata": {
    "heading_collapsed": true,
    "id": "W0qalO3FL2B_"
   },
   "source": [
    "### Les variables\n",
    "***"
   ]
  },
  {
   "cell_type": "markdown",
   "metadata": {
    "hidden": true,
    "id": "OXOPZtiLL2CA"
   },
   "source": [
    "De manière générale, un programme agit sur des nombres, des textes, etc.\n",
    "Pour mémoriser et manipuler ces différentes informations, on utilise des **variables**.\n",
    "Une variable est une zone de stockage d'informations dans la mémoire de la machine, une sorte de boîte repérée par une étiquette (le nom de la variable) dans laquelle on pourra ranger quelque chose.\n",
    "\n",
    "**Quelques remarques :**\n",
    "\n",
    "- le nom d'une variable permet de l'identifier et il peut comporter des lettres, des chiffres et les symboles « - » et « _ ». <br/> Afin d'améliorer la lisibilité du programme, il est conseillé de respecter certaines règles lors du choix du nom d'une variable ; \n",
    "\n",
    "\n",
    "- le nom d'une variable doit être significatif. Par exemple, utiliser le nom « pointsJoueur1 » est plus parlant que le nom « p1 » ;\n",
    "\n",
    "\n",
    "- chaque variable utilisée a un type. C'est comme préciser si une boîte contient uniquement des outils, ou uniquement des chaussures ou uniquement des bijoux. \n",
    "On retrouve par exemple :\n",
    "    - le type **entier** (ou nombre entier). En Python, c'est le type `int` ;\n",
    "    - le type **nombre à virgule**. En Python, c'est le type `float` (il faut noter que le séparateur décimal est le point et non la virgule) ;\n",
    "    - le type **chaîne de caractères**. En Python, c'est le type `string`."
   ]
  },
  {
   "cell_type": "markdown",
   "metadata": {
    "id": "Lw-L7bIhL2CC"
   },
   "source": [
    "### L'affectation\n",
    "***"
   ]
  },
  {
   "cell_type": "markdown",
   "metadata": {
    "id": "mGhZ9o1RL2CD"
   },
   "source": [
    "L'**affectation** est le fait de donner une valeur à une variable à un moment quelconque du programme. <br/>\n",
    "Cette instruction s'écrit souvent sous la forme : `nom_de_la_variable = valeur ou expression`"
   ]
  },
  {
   "cell_type": "markdown",
   "metadata": {
    "id": "iQOCzVNFL2CE"
   },
   "source": [
    "#### Exemple"
   ]
  },
  {
   "cell_type": "markdown",
   "metadata": {
    "id": "rVqkLub_L2CF"
   },
   "source": [
    "Exécuter le code suivant."
   ]
  },
  {
   "cell_type": "code",
   "execution_count": null,
   "metadata": {
    "id": "5t8J_B3pL2CG",
    "outputId": "2929e06a-cdbd-4ce3-c6eb-5dfa92734140"
   },
   "outputs": [],
   "source": [
    "prenom = \"Tiare\" \n",
    "age = 20\n",
    "taille = 1.78\n",
    "prenom, age, taille"
   ]
  },
  {
   "cell_type": "markdown",
   "metadata": {
    "id": "TqvIkhLFL2CJ"
   },
   "source": [
    "Dans cet exemple, on fait trois affectations :\n",
    "\n",
    "- on affecte la valeur `\"Tiare\"` à la variable appelée `prenom`, qui est ici de type chaîne de caractères `string` ;\n",
    "\n",
    "- on affecte la valeur `20` à la variable appelée `age`, qui est ici de type entier `int` ;\n",
    "\n",
    "- on affecte la valeur `1.78` à la variable appelée `taille`, qui est ici de type nombre à virgule `float`.\n",
    "\n",
    "**Remarque :**\n",
    "\n",
    "L'initialisation consiste à donner la valeur de la variable en même temps qu'on la déclare, donc au moment même où on l'utilise pour la première fois. Dans l'exemple ci-dessus par exemple, si c'est la première fois qu'on utilise la variable `age` alors en plus de créer cette variable, on a initialisé son contenu avec la valeur `20`.\n",
    "\n",
    "\n",
    "**Autre remarque :**\n",
    "\n",
    "Si l'on exécute le code suivant :"
   ]
  },
  {
   "cell_type": "code",
   "execution_count": null,
   "metadata": {
    "id": "76Y1ZBbFL2CL",
    "outputId": "e6153ba7-3802-4f74-b636-c79246dd91ed"
   },
   "outputs": [],
   "source": [
    "nombre = \"4231\"\n",
    "nombre+1"
   ]
  },
  {
   "cell_type": "markdown",
   "metadata": {
    "id": "BoxWlAsPL2CL"
   },
   "source": [
    "alors la variable `nombre` aura pour valeur la **chaîne de caractères (string)** `\"4231\"` et non l'**entier (int)** `4231`. Donc on ne peut pas l'utiliser dans des calculs arithmétiques sur des nombres."
   ]
  },
  {
   "cell_type": "markdown",
   "metadata": {
    "id": "86VQVbM4L2CM"
   },
   "source": [
    "#### Exemple"
   ]
  },
  {
   "cell_type": "markdown",
   "metadata": {
    "id": "KiBMpjuwL2CM"
   },
   "source": [
    "Exécuter le code suivant."
   ]
  },
  {
   "cell_type": "code",
   "execution_count": null,
   "metadata": {
    "id": "N2R-7ryzL2CN",
    "outputId": "33bfb869-2e33-4a24-c65f-a024aaf5a9fe",
    "scrolled": true
   },
   "outputs": [],
   "source": [
    "pointsJoueur1 = 48\n",
    "pointsJoueur1 = 24 # on fait deux affectations successives\n",
    "pointsJoueur1"
   ]
  },
  {
   "cell_type": "markdown",
   "metadata": {
    "id": "2SPio_OEL2CO"
   },
   "source": [
    "Si la variable `pointsJoueur1` possède déjà une valeur, alors celle-ci est écrasée lors d'une nouvelle affectation. Ici, à la fin de l'exécution de ce code, la variable `pointsJoueur1` aura pour valeur `24`."
   ]
  },
  {
   "cell_type": "markdown",
   "metadata": {
    "id": "A1bNcDvgL2CO"
   },
   "source": [
    "#### Exemple"
   ]
  },
  {
   "cell_type": "markdown",
   "metadata": {
    "id": "gJvaPy0nL2CP"
   },
   "source": [
    "Exécuter le code suivant."
   ]
  },
  {
   "cell_type": "code",
   "execution_count": null,
   "metadata": {
    "id": "8gqYZSueL2CP",
    "outputId": "5f1cfd83-329a-4615-a14a-6b4d941ee912"
   },
   "outputs": [],
   "source": [
    "pointsJoueur2 = 36\n",
    "pointsJoueur1 = pointsJoueur2 * 2 + 10\n",
    "pointsJoueur1"
   ]
  },
  {
   "cell_type": "markdown",
   "metadata": {
    "id": "8JX7aig3L2CQ"
   },
   "source": [
    "#### Exercice"
   ]
  },
  {
   "cell_type": "markdown",
   "metadata": {
    "id": "fNb7uGnBL2CQ"
   },
   "source": [
    "Quelles seront les valeurs des variables a, b et c après l'exécution des instructions suivantes ?"
   ]
  },
  {
   "cell_type": "code",
   "execution_count": null,
   "metadata": {
    "id": "Ada1jXVbL2CR"
   },
   "outputs": [],
   "source": [
    "a = 5\n",
    "b = 3\n",
    "c = a + b\n",
    "a = 2\n",
    "c = b - a"
   ]
  },
  {
   "cell_type": "markdown",
   "metadata": {
    "id": "tlmrgMytL2CR"
   },
   "source": [
    "#### Exercice"
   ]
  },
  {
   "cell_type": "markdown",
   "metadata": {
    "id": "RzVTLQ0PL2CR"
   },
   "source": [
    "Quelles seront les valeurs des variables a et b après l'exécution des instructions suivantes ?"
   ]
  },
  {
   "cell_type": "code",
   "execution_count": null,
   "metadata": {
    "id": "0ohjnOkPL2CS"
   },
   "outputs": [],
   "source": [
    "a = 5\n",
    "b = a + 4\n",
    "a = a + 1\n",
    "b = a - 4"
   ]
  },
  {
   "cell_type": "markdown",
   "metadata": {
    "id": "E-ydygGPL2CS"
   },
   "source": [
    "#### Exercice"
   ]
  },
  {
   "cell_type": "markdown",
   "metadata": {
    "id": "wlyiaRtUL2CS"
   },
   "source": [
    "Quelles seront les valeurs des variables a et b après l'exécution des instructions suivantes ?<br/>\n",
    "Les valeurs de ces deux variables ont-elles été échangées ?"
   ]
  },
  {
   "cell_type": "code",
   "execution_count": null,
   "metadata": {
    "id": "93KGWLvqL2CT"
   },
   "outputs": [],
   "source": [
    "a = 5\n",
    "b = 2\n",
    "a = b\n",
    "b = a"
   ]
  },
  {
   "cell_type": "markdown",
   "metadata": {
    "id": "XGHlRZW5L2CT"
   },
   "source": [
    "#### Exercice (facultatif)"
   ]
  },
  {
   "cell_type": "markdown",
   "metadata": {
    "id": "cCZYyJqBL2CT"
   },
   "source": [
    "Compléter le programme suivant pour que les valeurs des variables a et b soient échangées."
   ]
  },
  {
   "cell_type": "code",
   "execution_count": null,
   "metadata": {
    "id": "IbN9a8cKL2CU"
   },
   "outputs": [],
   "source": [
    "a = 123\n",
    "b = 456"
   ]
  },
  {
   "cell_type": "markdown",
   "metadata": {
    "heading_collapsed": true,
    "id": "_l3YhipdL2CU"
   },
   "source": [
    "### Affichage et saisie\n",
    "***"
   ]
  },
  {
   "cell_type": "markdown",
   "metadata": {
    "hidden": true,
    "id": "jJfOeYtHL2CU"
   },
   "source": [
    "Il existe des instructions qui permettent à la machine de dialoguer avec l'utilisateur :\n",
    "\n",
    "- dans un sens, ces instructions permettent au programme de communiquer des valeurs à l'utilisateur en les affichant à l'écran.\n",
    "Cette opération est l'**affichage** ;\n",
    "\n",
    "\n",
    "- dans un autre sens, ces instructions permettent à l'utilisateur de donner des valeurs au clavier pour qu'elles soient affectées à des variables pour être utilisées dans le programme.\n",
    "Cette opération est la **saisie**. <br/>"
   ]
  },
  {
   "cell_type": "markdown",
   "metadata": {
    "hidden": true,
    "id": "KHZaEuaOL2CV"
   },
   "source": [
    "#### L'affichage "
   ]
  },
  {
   "cell_type": "markdown",
   "metadata": {
    "hidden": true,
    "id": "Fv5q0_x6L2CV"
   },
   "source": [
    "Exécuter le programme ci-dessous."
   ]
  },
  {
   "cell_type": "code",
   "execution_count": null,
   "metadata": {
    "hidden": true,
    "id": "kdOIuWIfL2CV"
   },
   "outputs": [],
   "source": [
    "prenom = \"Tiare\"\n",
    "age = 20\n",
    "taille = 1.78\n",
    "print(\"Bonjour\", prenom, \"!\")\n",
    "print(\"Tu as\", age, \"ans et tu mesures\", taille, \"m.\")"
   ]
  },
  {
   "cell_type": "markdown",
   "metadata": {
    "hidden": true,
    "id": "a7fDwdW-L2CW"
   },
   "source": [
    "On voit que l'instruction `print()` permet l'affichage de ce qu'on lui donne entre parenthèses : ses **paramètres** séparés par des vigules.\n",
    "La fonction `print()` va chercher à afficher chacun de ses paramètres avec les règles suivantes :\n",
    "\n",
    "- elle les affiche de gauche à droite ;\n",
    "\n",
    "- si elle rencontre un paramètre entre guillemets, elle affiche le contenu entre guillemets sans rien faire d'autre ;\n",
    "\n",
    "- si elle rencontre un paramètre sans guillemets, elle cherche une variable portant le nom de ce paramètre, ou si c'est une expression elle la calcule, puis elle affiche la valeur correspondante."
   ]
  },
  {
   "cell_type": "markdown",
   "metadata": {
    "hidden": true,
    "id": "rdQS9Rv4L2CW"
   },
   "source": [
    "#### La saisie"
   ]
  },
  {
   "cell_type": "markdown",
   "metadata": {
    "hidden": true,
    "id": "YDRjTIdfL2CW"
   },
   "source": [
    "Dans le programme précédent, on fixait le prénom, l'âge et la taille de l'utilisateur.\n",
    "Mais on peut aussi lui demander de saisir les données de son choix.\n",
    "C'est l'objet de la fonction `input()`.\n",
    "\n",
    "Exécuter le programme ci-dessous."
   ]
  },
  {
   "cell_type": "code",
   "execution_count": null,
   "metadata": {
    "hidden": true,
    "id": "p582bIPOL2CX",
    "scrolled": true
   },
   "outputs": [],
   "source": [
    "prenom = input(\"Quel est ton prénom ? \")\n",
    "age = int(input(\"Quel âge as-tu ?\" ))\n",
    "taille = float(input(\"Combien mesures-tu ? \"))\n",
    "tailleEnCm = taille * 100\n",
    "print(\"Bonjour\", prenom, \"!\")\n",
    "print(\"Tu as\", age, \"ans et tu mesures\", tailleEnCm, \"cm.\")"
   ]
  },
  {
   "cell_type": "markdown",
   "metadata": {
    "hidden": true,
    "id": "a1uV1CmHL2CX"
   },
   "source": [
    "Lorsqu'une instruction `input()` est rencontrée, \n",
    "1. le programme affiche ce qui est entre guillemets et qui doit indiqué à l'utilisateur ce qu'il doit faire (ici c'est « Quel est ton prénom ? »\n",
    "2. après cet affichage, le programme fait une pause et il attend la saisie de l'utilisateur, c'est-à-dire qu'il attend que l'utilisateur tape quelque chose au clavier en terminant par la touche Entrée\n",
    "3. une fois la saisie validée, le programme convertit la donnée de l'utilisateur dans le type demandé. C'est l'objet des instructions `int()` et `float()` qui convertissent la donnée respectivement en un entier et en un nombre à virgule. Si aucune conversion n'est précisée, la saisie validée est gardée sous le type chaîne de caractères\n",
    "4. enfin le programme effectue l'affectation demandée."
   ]
  },
  {
   "cell_type": "markdown",
   "metadata": {
    "hidden": true,
    "id": "Wu5W_efBL2CY"
   },
   "source": [
    "#### Exercice"
   ]
  },
  {
   "cell_type": "markdown",
   "metadata": {
    "hidden": true,
    "id": "ceZoclA4L2CY"
   },
   "source": [
    "Écrire un programme qui demande à l'utilisateur de saisir un nombre entier et qui en affiche ensuite le carré."
   ]
  },
  {
   "cell_type": "code",
   "execution_count": null,
   "metadata": {
    "hidden": true,
    "id": "zd2xsn2bL2CY"
   },
   "outputs": [],
   "source": [
    "# Utiliser cette cellule pour le programme à créer"
   ]
  },
  {
   "cell_type": "markdown",
   "metadata": {
    "heading_collapsed": true,
    "id": "i-B3BXRNL2CZ"
   },
   "source": [
    "### La structure conditionnelle : les tests\n",
    "***"
   ]
  },
  {
   "cell_type": "markdown",
   "metadata": {
    "hidden": true,
    "id": "9KCURUvqL2Ca"
   },
   "source": [
    "Cette partie du cours traite des structures conditionnelles, qui permettent de faire des tests.\n",
    "Les conditions permettent d'exécuter une ou plusieurs instructions dans un cas, d'autres instructions dans un autre cas. \n",
    "\n",
    "Exécuter le programme suivant."
   ]
  },
  {
   "cell_type": "code",
   "execution_count": null,
   "metadata": {
    "hidden": true,
    "id": "lKjQNnVmL2Ca"
   },
   "outputs": [],
   "source": [
    "a = 10\n",
    "if a > 5 :\n",
    "    a = a + 1\n",
    "print(a)"
   ]
  },
  {
   "cell_type": "markdown",
   "metadata": {
    "hidden": true,
    "id": "dja_96YsL2Ca"
   },
   "source": [
    "On remarque que si la valeur de la variable `a` est supérieure à `5` alors on incrémente (ce qui veut qu'on augmente de 1) la valeur de `a`. <br/>\n",
    "Que se passe-t-il si la valeur est inférieure à `5` ? <br/>\n",
    "Exécuter le programme suivant."
   ]
  },
  {
   "cell_type": "code",
   "execution_count": null,
   "metadata": {
    "hidden": true,
    "id": "iGerVPgVL2Cb"
   },
   "outputs": [],
   "source": [
    "a = 3\n",
    "if a > 5 :\n",
    "    a = a + 1\n",
    "print(a)"
   ]
  },
  {
   "cell_type": "markdown",
   "metadata": {
    "hidden": true,
    "id": "uCgzl7R5L2Cb"
   },
   "source": [
    "On remarque que si la condition n'est pas remplie, les instructions de la structure conditionnelle sont ignorées.\n",
    "Mais dans ce cas, on pourrait aussi vouloir donner des instructions et pour cela, on utilise `else`, que l'on pourrait traduire par `sinon`. <br/>\n",
    "Exécuter le programme suivant."
   ]
  },
  {
   "cell_type": "code",
   "execution_count": null,
   "metadata": {
    "hidden": true,
    "id": "8QjzQKh9L2Cc"
   },
   "outputs": [],
   "source": [
    "a = 3\n",
    "if a > 5 :\n",
    "    a = a + 1\n",
    "else :\n",
    "    a = a - 1\n",
    "print(a)"
   ]
  },
  {
   "cell_type": "markdown",
   "metadata": {
    "hidden": true,
    "id": "k-Pd-WC_L2Cd"
   },
   "source": [
    "Il est possible d'ajouter autant de conditions précises que l'on souhaite en utilisant `elif`, qui est la contraction de `else` `if` et que l'on pourrait traduire par `sinon si`. <br/>\n",
    "Exécuter le programme suivant."
   ]
  },
  {
   "cell_type": "code",
   "execution_count": null,
   "metadata": {
    "hidden": true,
    "id": "w5CgUwJhL2Ce"
   },
   "outputs": [],
   "source": [
    "a = 5\n",
    "if a > 5 :\n",
    "    a = a + 1\n",
    "elif a == 5 :\n",
    "    a = a + 1000\n",
    "else :\n",
    "    a = a - 1\n",
    "print(a)"
   ]
  },
  {
   "cell_type": "markdown",
   "metadata": {
    "hidden": true,
    "id": "LoXaEoeRL2Ce"
   },
   "source": [
    "**Remarque** : en Python :\n",
    "- on utilise le double égal `==` pour faire une comparaison d'égalité entre deux valeurs, le simple égal `=` étant réservé à l'affectation. Ceci reste vrai dans beaucoup d'autres langages ;\n",
    "- et on utilise `!=` pour savoir si deux valeurs sont différentes. Ceci reste vrai dans beaucoup d'autres langages ;\n",
    "- l'indentation (l'espace qu'il y peut y avoir en début de ligne comme les lignes 3, 5 et 7 du programme précédent) est très importante pour signifier ce que doit faire le programme après les deux points `:`. D'autres langages utilisent des accolades par exemple."
   ]
  },
  {
   "cell_type": "markdown",
   "metadata": {
    "hidden": true,
    "id": "yTRuIW1rL2Cf"
   },
   "source": [
    "#### Exercice"
   ]
  },
  {
   "cell_type": "markdown",
   "metadata": {
    "hidden": true,
    "id": "g4v3ToatL2Cf"
   },
   "source": [
    "Écrire un programme qui demande un nombre à l'utilisateur et l'informe ensuite si ce nombre est négatif, nul ou positif."
   ]
  },
  {
   "cell_type": "code",
   "execution_count": null,
   "metadata": {
    "hidden": true,
    "id": "P3QUFajGL2Cf"
   },
   "outputs": [],
   "source": [
    "# Utiliser cette cellule pour écrire le programme"
   ]
  },
  {
   "cell_type": "markdown",
   "metadata": {
    "heading_collapsed": true,
    "id": "l9uVFHx1L2Ch"
   },
   "source": [
    "### Les boucles : for et while\n",
    "***"
   ]
  },
  {
   "cell_type": "markdown",
   "metadata": {
    "hidden": true,
    "id": "8jonmBEJL2Ch"
   },
   "source": [
    "Le boucles sont utilisées pour répéter plusieurs fois l'exécution d'une partie du programme :\n",
    "- quand on connaît à l'avance le nombre de répétitions, on utilise une boucle `for` ;\n",
    "- sinon on choisit une boucle `while`."
   ]
  },
  {
   "cell_type": "markdown",
   "metadata": {
    "hidden": true,
    "id": "N2Q6OpgcL2Ch"
   },
   "source": [
    "#### La boucle `for`"
   ]
  },
  {
   "cell_type": "markdown",
   "metadata": {
    "hidden": true,
    "id": "IqhgePfpL2Ch"
   },
   "source": [
    "Exécuter le code suivant."
   ]
  },
  {
   "cell_type": "code",
   "execution_count": null,
   "metadata": {
    "hidden": true,
    "id": "QVarkLJmL2Ci"
   },
   "outputs": [],
   "source": [
    "for i in [0, 1, 2, 3] :\n",
    "    print(\"i a pour valeur\", i)"
   ]
  },
  {
   "cell_type": "markdown",
   "metadata": {
    "hidden": true,
    "id": "FwwMjJMbL2Ci"
   },
   "source": [
    "L’instruction `for` est une instruction qui se termine par deux-points `:`, suivie d’un bloc indenté qui constitue le corps de la boucle.\n",
    "\n",
    "On dit que l’on réalise une **itération** de la boucle à chaque fois que le corps de la boucle est exécuté.\n",
    "\n",
    "Dans l’en-tête de la boucle, on précise après le mot-clé `for` le nom d’une variable (`i` dans l’exemple ci-dessus) qui prendra successivement toutes les valeurs qui sont données après le mot-clé `in`. \n",
    "\n",
    "En Python, il est possible d'obtenir le même résultat sans donner la liste des valeurs, mais en utilisant la fonction `range()` qui crée cette liste de valeurs :"
   ]
  },
  {
   "cell_type": "code",
   "execution_count": null,
   "metadata": {
    "hidden": true,
    "id": "nfstiSFiL2Cj"
   },
   "outputs": [],
   "source": [
    "for i in range(4) :\n",
    "    print(\"i a pour valeur\", i)"
   ]
  },
  {
   "cell_type": "markdown",
   "metadata": {
    "hidden": true,
    "id": "sNT91vldL2Cj"
   },
   "source": [
    "#### La boucle `while`"
   ]
  },
  {
   "cell_type": "markdown",
   "metadata": {
    "hidden": true,
    "id": "c4Cbzk52L2Cj"
   },
   "source": [
    "En anglais, une traduction de `while` est `tant que`. Quand on utilise une boucle `while`, il faut donc indiquer quand est-ce qu'elle s'arrête.\n",
    "\n",
    "Exécuter le code suivant."
   ]
  },
  {
   "cell_type": "code",
   "execution_count": null,
   "metadata": {
    "hidden": true,
    "id": "I4ikVZFML2Cj"
   },
   "outputs": [],
   "source": [
    "x = 1\n",
    "while x < 10:\n",
    "    print(\"x a pour valeur\", x)\n",
    "    x = x * 2\n",
    "print(\"Fin car x a pour valeur : \", x)"
   ]
  },
  {
   "cell_type": "markdown",
   "metadata": {
    "hidden": true,
    "id": "bJJNp37dL2Ck"
   },
   "source": [
    "Le corps de la boucle (le bloc d'instructions indentées après les deux-points) sera répété tant que la condition (entre le mot `while` et les deux-points) reste vraie.\n",
    "\n",
    "Ici, on affiche la valeur de `x`, puis `x` est multiplié par `2` tant que sa valeur reste inférieure strictement à 10.\n",
    "\n",
    "**Remarques :**\n",
    "- si la condition est fausse au départ, le corps de la boucle n'est jamais exécuté ;\n",
    "- si la condition reste toujours vraie, alors le corps de la boucle est répété indéfiniment ;"
   ]
  },
  {
   "cell_type": "markdown",
   "metadata": {
    "hidden": true,
    "id": "5rV_-yJpL2Ck"
   },
   "source": [
    "#### Choisir entre la boucle `for` et la boucle `while`"
   ]
  },
  {
   "cell_type": "markdown",
   "metadata": {
    "hidden": true,
    "id": "9-VaGZTDL2Ck"
   },
   "source": [
    "En général, si on connaît, avant de démarrer la boucle, le nombre d’itérations à exécuter, on choisit une boucle `for`. \n",
    "Au contraire, si la décision d’arrêter la boucle ne peut se faire que par un test, on choisit une boucle `while`.\n",
    "\n",
    "**Remarque** : il est toujours possible de modifier son programme pour remplacer une boucle `for` par une boucle `while`."
   ]
  },
  {
   "cell_type": "markdown",
   "metadata": {
    "hidden": true,
    "id": "R42ulthGL2Cl"
   },
   "source": [
    "#### Exercice"
   ]
  },
  {
   "cell_type": "markdown",
   "metadata": {
    "hidden": true,
    "id": "dZfEWFiTL2Cl"
   },
   "source": [
    "Écrire un programme qui écrit 20 fois le texte `Hello world !` à l'aide d'une boucle `for`."
   ]
  },
  {
   "cell_type": "code",
   "execution_count": null,
   "metadata": {
    "hidden": true,
    "id": "niWitsFQL2Cl"
   },
   "outputs": [],
   "source": [
    "# Utiliser cette cellule pour écrire le programme"
   ]
  },
  {
   "cell_type": "markdown",
   "metadata": {
    "hidden": true,
    "id": "O7MViVGjL2Cn"
   },
   "source": [
    "#### Exercice"
   ]
  },
  {
   "cell_type": "markdown",
   "metadata": {
    "hidden": true,
    "id": "kEDHrxuRL2Cn"
   },
   "source": [
    "Écrire un programme qui demande à l’utilisateur un nombre compris entre 1 et 3 jusqu’à ce que la réponse convienne."
   ]
  },
  {
   "cell_type": "code",
   "execution_count": null,
   "metadata": {
    "hidden": true,
    "id": "_DRPO0PvL2Cn"
   },
   "outputs": [],
   "source": [
    "# Utiliser cette cellule pour écrire le programme"
   ]
  },
  {
   "cell_type": "markdown",
   "metadata": {
    "id": "hH80QvGDL2Cw"
   },
   "source": [
    "#### Les langages de requête"
   ]
  },
  {
   "cell_type": "markdown",
   "metadata": {
    "id": "4Jcj-owRL2Cw"
   },
   "source": [
    "On peut être amené à manipuler de grandes quantités d'informations sur de longues périodes.\n",
    "De plus, ces informations doivent être conservées pour plus tard : elle ne doivent pas disparaître quand on éteint l'ordinateur.\n",
    "Pour cela, un ordinateur contient toujours une ou plusieurs mémoires de masse, des mémoires qui peuvent conserver des informations quand l'ordinateur s'éteint. \n",
    "Reste qu'utiliser ces mémoires de masse pour stocker de grandes quantités de données n'est pas une mince affaire.\n",
    "\n",
    "Un langage de requête est un langage informatique utilisé pour accéder aux données d'une base de données ou d'autres systèmes d'information.\n",
    "Il permet d'obtenir les données vérifiant certaines conditions (on parle de critères de sélection), comme par exemple, toutes les personnes qui habitent une ville donnée.\n",
    "Les données peuvent être triées, elles peuvent également être regroupées suivant les valeurs d'une donnée particulière (par exemple, on va regrouper toutes les personnes qui habitent la même rue).\n",
    "\n",
    "La grammaire d'un langage de requête est adaptée à la structure des données interrogées. Le langage de requête le plus connu et le plus utilisé est SQL.\n",
    "\n",
    "Un langage de requête ne possède pas la puissance d'un langage de programmation : entrées/sorties, instructions conditionnelles, boucles et affectations. Pour certains traitements il est donc nécessaire de coupler le langage SQL avec un langage de programmation plus complet."
   ]
  },
  {
   "cell_type": "markdown",
   "metadata": {
    "id": "obCogBcHL2Cw"
   },
   "source": [
    "#### Exemple"
   ]
  },
  {
   "attachments": {
    "table-client.png": {
     "image/png": "[encoded data removed]"
    }
   },
   "cell_type": "markdown",
   "metadata": {
    "id": "rZTG04_6L2Cw"
   },
   "source": [
    "Imaginons une base de données appelée « client » qui contient des informations sur les clients d’une entreprise. <br/><br/>\n",
    "\n",
    " ![table-client.png](attachment:table-client.png)<br/>\n",
    "\n",
    "Si l’ont veut avoir la liste de toutes les villes des clients, il suffit d’effectuer la requête suivante."
   ]
  },
  {
   "cell_type": "markdown",
   "metadata": {
    "id": "9i4043wPL2Cx"
   },
   "source": [
    "SELECT ville\n",
    "FROM client"
   ]
  },
  {
   "attachments": {
    "table-client-select-ville.png": {
     "image/png": "[encoded data removed]"
    }
   },
   "cell_type": "markdown",
   "metadata": {
    "id": "yxuJOLjuL2Cx"
   },
   "source": [
    "Et voici le résultat obtenu : <br/><br/>\n",
    "\n",
    "![table-client-select-ville.png](attachment:table-client-select-ville.png)<br/>\n",
    " \n",
    " Autre exemple :"
   ]
  },
  {
   "cell_type": "code",
   "execution_count": null,
   "metadata": {
    "id": "6sGhuRVfL2Cy"
   },
   "outputs": [],
   "source": [
    "SELECT prenom, nom\n",
    "FROM client"
   ]
  },
  {
   "attachments": {
    "table-client-select-prenom-nom.png": {
     "image/png": "[encoded data removed]"
    }
   },
   "cell_type": "markdown",
   "metadata": {
    "id": "1h-TVN2VL2Cy"
   },
   "source": [
    "Résultat : <br/><br/>\n",
    "\n",
    "![table-client-select-prenom-nom.png](attachment:table-client-select-prenom-nom.png) <br/>\n",
    "\n",
    "Et dernier exemple :"
   ]
  },
  {
   "cell_type": "code",
   "execution_count": null,
   "metadata": {
    "id": "v14b4EbzL2Cy"
   },
   "outputs": [],
   "source": [
    "SELECT *\n",
    "FROM client"
   ]
  },
  {
   "attachments": {
    "table-client-select-all2.png": {
     "image/png": "[encoded data removed]"
    }
   },
   "cell_type": "markdown",
   "metadata": {
    "id": "gYntApGLL2Cz"
   },
   "source": [
    "Résultat : <br/><br/>\n",
    "\n",
    "![table-client-select-all2.png](attachment:table-client-select-all2.png)"
   ]
  },
  {
   "cell_type": "markdown",
   "metadata": {
    "id": "AhdmplWeL2Cz"
   },
   "source": [
    "## Synthèse"
   ]
  },
  {
   "cell_type": "markdown",
   "metadata": {
    "id": "yqpbH3-iL2Cz"
   },
   "source": [
    "Tout au long de ce cours, nous avons pu voir que les langages de programmation sont caractérisés par un ensemble de constructions élémentaires : séquences, affectation, conditionnelles, boucles.\n",
    "Ce sont des traits communs à différents langages de programmation, ce qui souligne une certaine unité de ces langages.\n",
    "\n",
    "Ressource: Mr TAAE Tony                                                                                        "
   ]
  }
 ],
 "metadata": {
  "colab": {
   "name": "Copie de Python - un langage de programmation.ipynb",
   "provenance": [
    {
     "file_id": "https://github.com/masterFranckS/snt/blob/main/Python%20-%20un%20langage%20de%20programmation.ipynb",
     "timestamp": 1643921818732
    }
   ]
  },
  "kernelspec": {
   "display_name": "Python 3",
   "language": "python",
   "name": "python3"
  },
  "language_info": {
   "codemirror_mode": {
    "name": "ipython",
    "version": 3
   },
   "file_extension": ".py",
   "mimetype": "text/x-python",
   "name": "python",
   "nbconvert_exporter": "python",
   "pygments_lexer": "ipython3",
   "version": "3.7.6"
  },
  "toc": {
   "base_numbering": 1,
   "nav_menu": {},
   "number_sections": true,
   "sideBar": true,
   "skip_h1_title": false,
   "title_cell": "Tables des matières",
   "title_sidebar": "Sommaire",
   "toc_cell": false,
   "toc_position": {
    "height": "calc(100% - 180px)",
    "left": "10px",
    "top": "150px",
    "width": "259.594px"
   },
   "toc_section_display": true,
   "toc_window_display": true
  }
 },
 "nbformat": 4,
 "nbformat_minor": 1
}
