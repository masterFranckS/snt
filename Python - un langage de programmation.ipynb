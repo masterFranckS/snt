{
 "cells": [
  {
   "cell_type": "markdown",
   "metadata": {},
   "source": [
    "# <center>Python : un langage de programmation</center><a class=\"tocSkip\">"
   ]
  },
  {
   "cell_type": "markdown",
   "metadata": {
    "heading_collapsed": true
   },
   "source": [
    "## Qu'est-ce qu'un langage de programmation ?\n",
    "***"
   ]
  },
  {
   "cell_type": "markdown",
   "metadata": {
    "hidden": true
   },
   "source": [
    "Un **langage de programmation** est un ensemble de règles et de notations comprises à la fois par l'humain et la machine, et qui fournissent un moyen de dire à la machine quelles opérations exécuter.\n",
    "Cette liste d'ordres, écrite dans un fichier appelé **code source**, et indiquant à un ordinateur ce qu'il doit faire, s'appelle un **programme**.\n",
    "\n",
    "Comme un langage naturel, un langage de programmation possède des mots, des symboles et des règles de grammaire. Ces règles de grammaire constituent la **syntaxe** du langage de programmation et donc chaque langage de programmation possède sa propre syntaxe permettant la construction d'un programme.\n",
    "\n",
    "Dans la suite de ce cours, sauf mention contraire, le langage principalement utilisé dans les cellules de code pour les exemples, sera `Python 3`."
   ]
  },
  {
   "cell_type": "markdown",
   "metadata": {},
   "source": [
    "## Unité des langages de programmation : les notions principales de programmation\n",
    "***"
   ]
  },
  {
   "cell_type": "markdown",
   "metadata": {},
   "source": [
    "Pour écrire un programme, on peut utiliser des instructions assez basiques comme l'addition, la soustraction ou toute autre opération mathématique. Mais on peut également utiliser des instructions plus complexes comme des opérations permettant de comparer des valeurs, traiter des caractères, etc.\n",
    "Un langage de programmation offre alors un ensemble de notions qui peuvent être utilisées pour développer un programme et la plupart des langages de programmation ont des caractéristiques communes, présentées ci-dessous."
   ]
  },
  {
   "cell_type": "markdown",
   "metadata": {
    "heading_collapsed": true
   },
   "source": [
    "### Les variables\n",
    "***"
   ]
  },
  {
   "cell_type": "markdown",
   "metadata": {
    "hidden": true
   },
   "source": [
    "De manière générale, un programme agit sur des nombres, des textes, etc.\n",
    "Pour mémoriser et manipuler ces différentes informations, on utilise des **variables**.\n",
    "Une variable est une zone de stockage d'informations dans la mémoire de la machine, une sorte de boîte repérée par une étiquette (le nom de la variable) dans laquelle on pourra ranger quelque chose.\n",
    "\n",
    "**Quelques remarques :**\n",
    "\n",
    "- le nom d'une variable permet de l'identifier et il peut comporter des lettres, des chiffres et les symboles « - » et « _ ». <br/> Afin d'améliorer la lisibilité du programme, il est conseillé de respecter certaines règles lors du choix du nom d'une variable ; \n",
    "\n",
    "\n",
    "- le nom d'une variable doit être significatif. Par exemple, utiliser le nom « pointsJoueur1 » est plus parlant que le nom « p1 » ;\n",
    "\n",
    "\n",
    "- chaque variable utilisée a un type. C'est comme préciser si une boîte contient uniquement des outils, ou uniquement des chaussures ou uniquement des bijoux. \n",
    "On retrouve par exemple :\n",
    "    - le type **entier** (ou nombre entier). En Python, c'est le type `int` ;\n",
    "    - le type **nombre à virgule**. En Python, c'est le type `float` (il faut noter que le séparateur décimal est le point et non la virgule) ;\n",
    "    - le type **chaîne de caractères**. En Python, c'est le type `string`."
   ]
  },
  {
   "cell_type": "markdown",
   "metadata": {},
   "source": [
    "### L'affectation\n",
    "***"
   ]
  },
  {
   "cell_type": "markdown",
   "metadata": {},
   "source": [
    "L'**affectation** est le fait de donner une valeur à une variable à un moment quelconque du programme. <br/>\n",
    "Cette instruction s'écrit souvent sous la forme : `nom_de_la_variable = valeur ou expression`"
   ]
  },
  {
   "cell_type": "markdown",
   "metadata": {},
   "source": [
    "#### Exemple"
   ]
  },
  {
   "cell_type": "markdown",
   "metadata": {},
   "source": [
    "Exécuter le code suivant."
   ]
  },
  {
   "cell_type": "code",
   "execution_count": 4,
   "metadata": {},
   "outputs": [
    {
     "data": {
      "text/plain": [
       "('Tiare', 20, 1.78)"
      ]
     },
     "execution_count": 4,
     "metadata": {},
     "output_type": "execute_result"
    }
   ],
   "source": [
    "prenom = \"Tiare\" \n",
    "age = 20\n",
    "taille = 1.78\n",
    "prenom, age, taille"
   ]
  },
  {
   "cell_type": "markdown",
   "metadata": {},
   "source": [
    "Dans cet exemple, on fait trois affectations :\n",
    "\n",
    "- on affecte la valeur `\"Tiare\"` à la variable appelée `prenom`, qui est ici de type chaîne de caractères `string` ;\n",
    "\n",
    "- on affecte la valeur `20` à la variable appelée `age`, qui est ici de type entier `int` ;\n",
    "\n",
    "- on affecte la valeur `1.78` à la variable appelée `taille`, qui est ici de type nombre à virgule `float`.\n",
    "\n",
    "**Remarque :**\n",
    "\n",
    "L'initialisation consiste à donner la valeur de la variable en même temps qu'on la déclare, donc au moment même où on l'utilise pour la première fois. Dans l'exemple ci-dessus par exemple, si c'est la première fois qu'on utilise la variable `age` alors en plus de créer cette variable, on a initialisé son contenu avec la valeur `20`.\n",
    "\n",
    "\n",
    "**Autre remarque :**\n",
    "\n",
    "Si l'on exécute le code suivant :"
   ]
  },
  {
   "cell_type": "code",
   "execution_count": 7,
   "metadata": {},
   "outputs": [
    {
     "ename": "TypeError",
     "evalue": "can only concatenate str (not \"int\") to str",
     "output_type": "error",
     "traceback": [
      "\u001b[1;31m---------------------------------------------------------------------------\u001b[0m",
      "\u001b[1;31mTypeError\u001b[0m                                 Traceback (most recent call last)",
      "\u001b[1;32m<ipython-input-7-803e05ddff6b>\u001b[0m in \u001b[0;36m<module>\u001b[1;34m\u001b[0m\n\u001b[0;32m      1\u001b[0m \u001b[0mnombre\u001b[0m \u001b[1;33m=\u001b[0m \u001b[1;34m\"4231\"\u001b[0m\u001b[1;33m\u001b[0m\u001b[1;33m\u001b[0m\u001b[0m\n\u001b[1;32m----> 2\u001b[1;33m \u001b[0mnombre\u001b[0m\u001b[1;33m+\u001b[0m\u001b[1;36m1\u001b[0m\u001b[1;33m\u001b[0m\u001b[1;33m\u001b[0m\u001b[0m\n\u001b[0m",
      "\u001b[1;31mTypeError\u001b[0m: can only concatenate str (not \"int\") to str"
     ]
    }
   ],
   "source": [
    "nombre = \"4231\"\n",
    "nombre+1"
   ]
  },
  {
   "cell_type": "markdown",
   "metadata": {},
   "source": [
    "alors la variable `nombre` aura pour valeur la **chaîne de caractères (string)** `\"4231\"` et non l'**entier (int)** `4231`. Donc on ne peut pas l'utiliser dans des calculs arithmétiques sur des nombres."
   ]
  },
  {
   "cell_type": "markdown",
   "metadata": {},
   "source": [
    "#### Exemple"
   ]
  },
  {
   "cell_type": "markdown",
   "metadata": {},
   "source": [
    "Exécuter le code suivant."
   ]
  },
  {
   "cell_type": "code",
   "execution_count": 8,
   "metadata": {
    "scrolled": true
   },
   "outputs": [
    {
     "data": {
      "text/plain": [
       "24"
      ]
     },
     "execution_count": 8,
     "metadata": {},
     "output_type": "execute_result"
    }
   ],
   "source": [
    "pointsJoueur1 = 48\n",
    "pointsJoueur1 = 24 # on fait deux affectations successives\n",
    "pointsJoueur1"
   ]
  },
  {
   "cell_type": "markdown",
   "metadata": {},
   "source": [
    "Si la variable `pointsJoueur1` possède déjà une valeur, alors celle-ci est écrasée lors d'une nouvelle affectation. Ici, à la fin de l'exécution de ce code, la variable `pointsJoueur1` aura pour valeur `24`."
   ]
  },
  {
   "cell_type": "markdown",
   "metadata": {},
   "source": [
    "#### Exemple"
   ]
  },
  {
   "cell_type": "markdown",
   "metadata": {},
   "source": [
    "Exécuter le code suivant."
   ]
  },
  {
   "cell_type": "code",
   "execution_count": 4,
   "metadata": {},
   "outputs": [
    {
     "data": {
      "text/plain": [
       "82"
      ]
     },
     "execution_count": 4,
     "metadata": {},
     "output_type": "execute_result"
    }
   ],
   "source": [
    "pointsJoueur2 = 36\n",
    "pointsJoueur1 = pointsJoueur2 * 2 + 10\n",
    "pointsJoueur1"
   ]
  },
  {
   "cell_type": "markdown",
   "metadata": {},
   "source": [
    "#### Exercice"
   ]
  },
  {
   "cell_type": "markdown",
   "metadata": {},
   "source": [
    "Quelles seront les valeurs des variables a, b et c après l'exécution des instructions suivantes ?"
   ]
  },
  {
   "cell_type": "code",
   "execution_count": null,
   "metadata": {},
   "outputs": [],
   "source": [
    "a = 5\n",
    "b = 3\n",
    "c = a + b\n",
    "a = 2\n",
    "c = b - a"
   ]
  },
  {
   "cell_type": "markdown",
   "metadata": {},
   "source": [
    "#### Exercice"
   ]
  },
  {
   "cell_type": "markdown",
   "metadata": {},
   "source": [
    "Quelles seront les valeurs des variables a et b après l'exécution des instructions suivantes ?"
   ]
  },
  {
   "cell_type": "code",
   "execution_count": null,
   "metadata": {},
   "outputs": [],
   "source": [
    "a = 5\n",
    "b = a + 4\n",
    "a = a + 1\n",
    "b = a - 4"
   ]
  },
  {
   "cell_type": "markdown",
   "metadata": {},
   "source": [
    "#### Exercice"
   ]
  },
  {
   "cell_type": "markdown",
   "metadata": {},
   "source": [
    "Quelles seront les valeurs des variables a et b après l'exécution des instructions suivantes ?<br/>\n",
    "Les valeurs de ces deux variables ont-elles été échangées ?"
   ]
  },
  {
   "cell_type": "code",
   "execution_count": null,
   "metadata": {},
   "outputs": [],
   "source": [
    "a = 5\n",
    "b = 2\n",
    "a = b\n",
    "b = a"
   ]
  },
  {
   "cell_type": "markdown",
   "metadata": {},
   "source": [
    "#### Exercice (facultatif)"
   ]
  },
  {
   "cell_type": "markdown",
   "metadata": {},
   "source": [
    "Compléter le programme suivant pour que les valeurs des variables a et b soient échangées."
   ]
  },
  {
   "cell_type": "code",
   "execution_count": null,
   "metadata": {},
   "outputs": [],
   "source": [
    "a = 123\n",
    "b = 456"
   ]
  },
  {
   "cell_type": "markdown",
   "metadata": {
    "heading_collapsed": true
   },
   "source": [
    "### Affichage et saisie\n",
    "***"
   ]
  },
  {
   "cell_type": "markdown",
   "metadata": {
    "hidden": true
   },
   "source": [
    "Il existe des instructions qui permettent à la machine de dialoguer avec l'utilisateur :\n",
    "\n",
    "- dans un sens, ces instructions permettent au programme de communiquer des valeurs à l'utilisateur en les affichant à l'écran.\n",
    "Cette opération est l'**affichage** ;\n",
    "\n",
    "\n",
    "- dans un autre sens, ces instructions permettent à l'utilisateur de donner des valeurs au clavier pour qu'elles soient affectées à des variables pour être utilisées dans le programme.\n",
    "Cette opération est la **saisie**. <br/>"
   ]
  },
  {
   "cell_type": "markdown",
   "metadata": {
    "hidden": true
   },
   "source": [
    "#### L'affichage "
   ]
  },
  {
   "cell_type": "markdown",
   "metadata": {
    "hidden": true
   },
   "source": [
    "Exécuter le programme ci-dessous."
   ]
  },
  {
   "cell_type": "code",
   "execution_count": null,
   "metadata": {
    "hidden": true
   },
   "outputs": [],
   "source": [
    "prenom = \"Tiare\"\n",
    "age = 20\n",
    "taille = 1.78\n",
    "print(\"Bonjour\", prenom, \"!\")\n",
    "print(\"Tu as\", age, \"ans et tu mesures\", taille, \"m.\")"
   ]
  },
  {
   "cell_type": "markdown",
   "metadata": {
    "hidden": true
   },
   "source": [
    "On voit que l'instruction `print()` permet l'affichage de ce qu'on lui donne entre parenthèses : ses **paramètres** séparés par des vigules.\n",
    "La fonction `print()` va chercher à afficher chacun de ses paramètres avec les règles suivantes :\n",
    "\n",
    "- elle les affiche de gauche à droite ;\n",
    "\n",
    "- si elle rencontre un paramètre entre guillemets, elle affiche le contenu entre guillemets sans rien faire d'autre ;\n",
    "\n",
    "- si elle rencontre un paramètre sans guillemets, elle cherche une variable portant le nom de ce paramètre, ou si c'est une expression elle la calcule, puis elle affiche la valeur correspondante."
   ]
  },
  {
   "cell_type": "markdown",
   "metadata": {
    "hidden": true
   },
   "source": [
    "#### La saisie"
   ]
  },
  {
   "cell_type": "markdown",
   "metadata": {
    "hidden": true
   },
   "source": [
    "Dans le programme précédent, on fixait le prénom, l'âge et la taille de l'utilisateur.\n",
    "Mais on peut aussi lui demander de saisir les données de son choix.\n",
    "C'est l'objet de la fonction `input()`.\n",
    "\n",
    "Exécuter le programme ci-dessous."
   ]
  },
  {
   "cell_type": "code",
   "execution_count": null,
   "metadata": {
    "hidden": true,
    "scrolled": true
   },
   "outputs": [],
   "source": [
    "prenom = input(\"Quel est ton prénom ? \")\n",
    "age = int(input(\"Quel âge as-tu ?\" ))\n",
    "taille = float(input(\"Combien mesures-tu ? \"))\n",
    "tailleEnCm = taille * 100\n",
    "print(\"Bonjour\", prenom, \"!\")\n",
    "print(\"Tu as\", age, \"ans et tu mesures\", tailleEnCm, \"cm.\")"
   ]
  },
  {
   "cell_type": "markdown",
   "metadata": {
    "hidden": true
   },
   "source": [
    "Lorsqu'une instruction `input()` est rencontrée, \n",
    "1. le programme affiche ce qui est entre guillemets et qui doit indiqué à l'utilisateur ce qu'il doit faire (ici c'est « Quel est ton prénom ? »\n",
    "2. après cet affichage, le programme fait une pause et il attend la saisie de l'utilisateur, c'est-à-dire qu'il attend que l'utilisateur tape quelque chose au clavier en terminant par la touche Entrée\n",
    "3. une fois la saisie validée, le programme convertit la donnée de l'utilisateur dans le type demandé. C'est l'objet des instructions `int()` et `float()` qui convertissent la donnée respectivement en un entier et en un nombre à virgule. Si aucune conversion n'est précisée, la saisie validée est gardée sous le type chaîne de caractères\n",
    "4. enfin le programme effectue l'affectation demandée."
   ]
  },
  {
   "cell_type": "markdown",
   "metadata": {
    "hidden": true
   },
   "source": [
    "#### Exercice"
   ]
  },
  {
   "cell_type": "markdown",
   "metadata": {
    "hidden": true
   },
   "source": [
    "Écrire un programme qui demande à l'utilisateur de saisir un nombre entier et qui en affiche ensuite le carré."
   ]
  },
  {
   "cell_type": "code",
   "execution_count": null,
   "metadata": {
    "hidden": true
   },
   "outputs": [],
   "source": [
    "# Utiliser cette cellule pour le programme à créer"
   ]
  },
  {
   "cell_type": "markdown",
   "metadata": {
    "hidden": true
   },
   "source": [
    "#### Exercice"
   ]
  },
  {
   "cell_type": "markdown",
   "metadata": {
    "hidden": true
   },
   "source": [
    "Écrire un programme qui :\n",
    "- demande à l'utilisateur de saisir une distance en kilomètre (qui peut donc être un nombre virgule)\n",
    "- puis la convertit en une distance en miles (1 mile = 1,609 km)\n",
    "- et,enfin, l'affiche."
   ]
  },
  {
   "cell_type": "code",
   "execution_count": null,
   "metadata": {
    "hidden": true
   },
   "outputs": [],
   "source": [
    "# Utiliser cette cellule pour le programme à créer"
   ]
  },
  {
   "cell_type": "markdown",
   "metadata": {
    "heading_collapsed": true
   },
   "source": [
    "### La structure conditionnelle : les tests\n",
    "***"
   ]
  },
  {
   "cell_type": "markdown",
   "metadata": {
    "hidden": true
   },
   "source": [
    "Cette partie du cours traite des structures conditionnelles, qui permettent de faire des tests.\n",
    "Les conditions permettent d'exécuter une ou plusieurs instructions dans un cas, d'autres instructions dans un autre cas. \n",
    "\n",
    "Exécuter le programme suivant."
   ]
  },
  {
   "cell_type": "code",
   "execution_count": null,
   "metadata": {
    "hidden": true
   },
   "outputs": [],
   "source": [
    "a = 10\n",
    "if a > 5 :\n",
    "    a = a + 1\n",
    "print(a)"
   ]
  },
  {
   "cell_type": "markdown",
   "metadata": {
    "hidden": true
   },
   "source": [
    "On remarque que si la valeur de la variable `a` est supérieure à `5` alors on incrémente (ce qui veut qu'on augmente de 1) la valeur de `a`. <br/>\n",
    "Que se passe-t-il si la valeur est inférieure à `5` ? <br/>\n",
    "Exécuter le programme suivant."
   ]
  },
  {
   "cell_type": "code",
   "execution_count": null,
   "metadata": {
    "hidden": true
   },
   "outputs": [],
   "source": [
    "a = 3\n",
    "if a > 5 :\n",
    "    a = a + 1\n",
    "print(a)"
   ]
  },
  {
   "cell_type": "markdown",
   "metadata": {
    "hidden": true
   },
   "source": [
    "On remarque que si la condition n'est pas remplie, les instructions de la structure conditionnelle sont ignorées.\n",
    "Mais dans ce cas, on pourrait aussi vouloir donner des instructions et pour cela, on utilise `else`, que l'on pourrait traduire par `sinon`. <br/>\n",
    "Exécuter le programme suivant."
   ]
  },
  {
   "cell_type": "code",
   "execution_count": null,
   "metadata": {
    "hidden": true
   },
   "outputs": [],
   "source": [
    "a = 10\n",
    "if a > 5 :\n",
    "    a = a + 1\n",
    "else :\n",
    "    a = a - 1\n",
    "print(a)"
   ]
  },
  {
   "cell_type": "markdown",
   "metadata": {
    "hidden": true
   },
   "source": [
    "Puis exécuter le programme suivant."
   ]
  },
  {
   "cell_type": "code",
   "execution_count": null,
   "metadata": {
    "hidden": true
   },
   "outputs": [],
   "source": [
    "a = 3\n",
    "if a > 5 :\n",
    "    a = a + 1\n",
    "else :\n",
    "    a = a - 1\n",
    "print(a)"
   ]
  },
  {
   "cell_type": "markdown",
   "metadata": {
    "hidden": true
   },
   "source": [
    "Il est possible d'ajouter autant de conditions précises que l'on souhaite en utilisant `elif`, qui est la contraction de `else` `if` et que l'on pourrait traduire par `sinon si`. <br/>\n",
    "Exécuter le programme suivant."
   ]
  },
  {
   "cell_type": "code",
   "execution_count": null,
   "metadata": {
    "hidden": true
   },
   "outputs": [],
   "source": [
    "a = 5\n",
    "if a > 5 :\n",
    "    a = a + 1\n",
    "elif a == 5 :\n",
    "    a = a + 1000\n",
    "else :\n",
    "    a = a - 1\n",
    "print(a)"
   ]
  },
  {
   "cell_type": "markdown",
   "metadata": {
    "hidden": true
   },
   "source": [
    "**Remarque** : en Python :\n",
    "- on utilise le double égal `==` pour faire une comparaison d'égalité entre deux valeurs, le simple égal `=` étant réservé à l'affectation. Ceci reste vrai dans beaucoup d'autres langages ;\n",
    "- et on utilise `!=` pour savoir si deux valeurs sont différentes. Ceci reste vrai dans beaucoup d'autres langages ;\n",
    "- l'indentation (l'espace qu'il y peut y avoir en début de ligne comme les lignes 3, 5 et 7 du programme précédent) est très importante pour signifier ce que doit faire le programme après les deux points `:`. D'autres langages utilisent des accolades par exemple."
   ]
  },
  {
   "cell_type": "markdown",
   "metadata": {
    "hidden": true
   },
   "source": [
    "#### Exercice"
   ]
  },
  {
   "cell_type": "markdown",
   "metadata": {
    "hidden": true
   },
   "source": [
    "Écrire un programme qui demande un nombre à l'utilisateur et l'informe ensuite si ce nombre est négatif, nul ou positif."
   ]
  },
  {
   "cell_type": "code",
   "execution_count": null,
   "metadata": {
    "hidden": true
   },
   "outputs": [],
   "source": [
    "# Utiliser cette cellule pour écrire le programme"
   ]
  },
  {
   "cell_type": "markdown",
   "metadata": {
    "hidden": true
   },
   "source": [
    "#### Exercice"
   ]
  },
  {
   "cell_type": "markdown",
   "metadata": {
    "hidden": true
   },
   "source": [
    "Écrire un programme qui demande deux nombres à l'utilisateur et l'informe ensuite si leur produit est négatif, nul ou positif. <br/>\n",
    "**Une contrainte** : on ne doit pas calculer le produit ! <br/>\n",
    "\n",
    "Les mots « et » et « ou » se traduisent respectivement par « and » et « or » en Python. <br/>\n",
    "Par exemple, si on avait voulu écrire : \n",
    "`Si x appartient à l'intervelle [2 ; 8]`,  <br/>\n",
    "alors on aurait écrit : `Si x >= 2 et x <= 8`, \n",
    "ce qui donne en Python : `if x >= 2 and x <= 8`."
   ]
  },
  {
   "cell_type": "code",
   "execution_count": null,
   "metadata": {
    "hidden": true
   },
   "outputs": [],
   "source": [
    "# Utiliser cette cellule pour écrire le programme"
   ]
  },
  {
   "cell_type": "markdown",
   "metadata": {
    "heading_collapsed": true
   },
   "source": [
    "### Les boucles : for et while\n",
    "***"
   ]
  },
  {
   "cell_type": "markdown",
   "metadata": {
    "hidden": true
   },
   "source": [
    "Le boucles sont utilisées pour répéter plusieurs fois l'exécution d'une partie du programme :\n",
    "- quand on connaît à l'avance le nombre de répétitions, on utilise une boucle `for` ;\n",
    "- sinon on choisit une boucle `while`."
   ]
  },
  {
   "cell_type": "markdown",
   "metadata": {
    "hidden": true
   },
   "source": [
    "#### La boucle `for`"
   ]
  },
  {
   "cell_type": "markdown",
   "metadata": {
    "hidden": true
   },
   "source": [
    "Exécuter le code suivant."
   ]
  },
  {
   "cell_type": "code",
   "execution_count": null,
   "metadata": {
    "hidden": true
   },
   "outputs": [],
   "source": [
    "for i in [0, 1, 2, 3] :\n",
    "    print(\"i a pour valeur\", i)"
   ]
  },
  {
   "cell_type": "markdown",
   "metadata": {
    "hidden": true
   },
   "source": [
    "L’instruction `for` est une instruction qui se termine par deux-points `:`, suivie d’un bloc indenté qui constitue le corps de la boucle.\n",
    "\n",
    "On dit que l’on réalise une **itération** de la boucle à chaque fois que le corps de la boucle est exécuté.\n",
    "\n",
    "Dans l’en-tête de la boucle, on précise après le mot-clé `for` le nom d’une variable (`i` dans l’exemple ci-dessus) qui prendra successivement toutes les valeurs qui sont données après le mot-clé `in`. \n",
    "\n",
    "En Python, il est possible d'obtenir le même résultat sans donner la liste des valeurs, mais en utilisant la fonction `range()` qui crée cette liste de valeurs :"
   ]
  },
  {
   "cell_type": "code",
   "execution_count": null,
   "metadata": {
    "hidden": true
   },
   "outputs": [],
   "source": [
    "for i in range(4) :\n",
    "    print(\"i a pour valeur\", i)"
   ]
  },
  {
   "cell_type": "markdown",
   "metadata": {
    "hidden": true
   },
   "source": [
    "#### La boucle `while`"
   ]
  },
  {
   "cell_type": "markdown",
   "metadata": {
    "hidden": true
   },
   "source": [
    "En anglais, une traduction de `while` est `tant que`. Quand on utilise une boucle `while`, il faut donc indiquer quand est-ce qu'elle s'arrête.\n",
    "\n",
    "Exécuter le code suivant."
   ]
  },
  {
   "cell_type": "code",
   "execution_count": null,
   "metadata": {
    "hidden": true
   },
   "outputs": [],
   "source": [
    "x = 1\n",
    "while x < 10:\n",
    "    print(\"x a pour valeur\", x)\n",
    "    x = x * 2\n",
    "print(\"Fin car x a pour valeur : \", x)"
   ]
  },
  {
   "cell_type": "markdown",
   "metadata": {
    "hidden": true
   },
   "source": [
    "Le corps de la boucle (le bloc d'instructions indentées après les deux-points) sera répété tant que la condition (entre le mot `while` et les deux-points) reste vraie.\n",
    "\n",
    "Ici, on affiche la valeur de `x`, puis `x` est multiplié par `2` tant que sa valeur reste inférieure strictement à 10.\n",
    "\n",
    "**Remarques :**\n",
    "- si la condition est fausse au départ, le corps de la boucle n'est jamais exécuté ;\n",
    "- si la condition reste toujours vraie, alors le corps de la boucle est répété indéfiniment ;"
   ]
  },
  {
   "cell_type": "markdown",
   "metadata": {
    "hidden": true
   },
   "source": [
    "#### Choisir entre la boucle `for` et la boucle `while`"
   ]
  },
  {
   "cell_type": "markdown",
   "metadata": {
    "hidden": true
   },
   "source": [
    "En général, si on connaît, avant de démarrer la boucle, le nombre d’itérations à exécuter, on choisit une boucle `for`. \n",
    "Au contraire, si la décision d’arrêter la boucle ne peut se faire que par un test, on choisit une boucle `while`.\n",
    "\n",
    "**Remarque** : il est toujours possible de modifier son programme pour remplacer une boucle `for` par une boucle `while`."
   ]
  },
  {
   "cell_type": "markdown",
   "metadata": {
    "hidden": true
   },
   "source": [
    "#### Exercice"
   ]
  },
  {
   "cell_type": "markdown",
   "metadata": {
    "hidden": true
   },
   "source": [
    "Écrire un programme qui écrit 100 fois le texte `Hello world !` à l'aide d'une boucle `for`."
   ]
  },
  {
   "cell_type": "code",
   "execution_count": null,
   "metadata": {
    "hidden": true
   },
   "outputs": [],
   "source": [
    "# Utiliser cette cellule pour écrire le programme"
   ]
  },
  {
   "cell_type": "markdown",
   "metadata": {
    "hidden": true
   },
   "source": [
    "Écrire un programme qui écrit 100 fois le texte `Hello world !` à l'aide d'une boucle `while`."
   ]
  },
  {
   "cell_type": "code",
   "execution_count": null,
   "metadata": {
    "hidden": true
   },
   "outputs": [],
   "source": [
    "# Utiliser cette cellule pour écrire le programme"
   ]
  },
  {
   "cell_type": "markdown",
   "metadata": {
    "hidden": true
   },
   "source": [
    "#### Exercice"
   ]
  },
  {
   "cell_type": "markdown",
   "metadata": {
    "hidden": true
   },
   "source": [
    "À l'aide d'une boucle `for`, puis d'une boucle `while`, écrire un programme qui demande la saisie d'un nombre entier par l'utilisateur puis qui affiche la table de multiplication de ce nombre."
   ]
  },
  {
   "cell_type": "code",
   "execution_count": null,
   "metadata": {
    "hidden": true
   },
   "outputs": [],
   "source": [
    "# Utiliser cette cellule pour écrire le programme"
   ]
  },
  {
   "cell_type": "markdown",
   "metadata": {
    "hidden": true
   },
   "source": [
    "#### Exercice"
   ]
  },
  {
   "cell_type": "markdown",
   "metadata": {
    "hidden": true
   },
   "source": [
    "Écrire un programme qui demande à l’utilisateur un nombre compris entre 1 et 3 jusqu’à ce que la réponse convienne."
   ]
  },
  {
   "cell_type": "code",
   "execution_count": null,
   "metadata": {
    "hidden": true
   },
   "outputs": [],
   "source": [
    "# Utiliser cette cellule pour écrire le programme"
   ]
  },
  {
   "cell_type": "markdown",
   "metadata": {
    "hidden": true
   },
   "source": [
    "#### Exercice"
   ]
  },
  {
   "cell_type": "markdown",
   "metadata": {
    "hidden": true
   },
   "source": [
    "Écrire un programme qui demande un nombre de départ, et qui ensuite affiche les dix nombres suivants. Par exemple, si l'utilisateur entre le nombre 17, le programme affichera les nombres de 18 à 27."
   ]
  },
  {
   "cell_type": "code",
   "execution_count": null,
   "metadata": {
    "hidden": true
   },
   "outputs": [],
   "source": [
    "# Utiliser cette cellule pour écrire le programme"
   ]
  },
  {
   "cell_type": "markdown",
   "metadata": {},
   "source": [
    "#### Les langages compilés"
   ]
  },
  {
   "cell_type": "markdown",
   "metadata": {},
   "source": [
    "Certains langages sont « compilés ». En toute généralité, la compilation est l'opération qui consiste à transformer un langage source en un langage cible. \n",
    "Dans le cas d'un programme, le compilateur va transformer tout le texte représentant le code source du programme, en code compréhensible pour la machine, appelé code machine.\n",
    "\n",
    "Dans le cas de langages compilés, ce qui est exécuté est le résultat de la compilation. \n",
    "Une fois effectuée, l'exécutable obtenu peut être utilisé sans le code source.\n",
    "\n",
    "Voici quelques exemples de langages compilés : Ada, C, C++, Cobol, Fortran, Pascal.\n",
    "\n",
    "Et voici un exemple de code écrit en C++ :"
   ]
  },
  {
   "cell_type": "code",
   "execution_count": null,
   "metadata": {},
   "outputs": [],
   "source": [
    "#include <iostream>\n",
    "\n",
    "int main() \n",
    "{\n",
    "    std::cout << \"Hello, World!\";\n",
    "    return 0;\n",
    "}"
   ]
  },
  {
   "cell_type": "markdown",
   "metadata": {},
   "source": [
    "#### Les langages interprétés"
   ]
  },
  {
   "cell_type": "markdown",
   "metadata": {},
   "source": [
    "D'autres langages ne nécessitent pas de phase spéciale de compilation.\n",
    "La méthode employée pour exécuter le programme est alors différente.\n",
    "Le programme entier n'est jamais compilé.\n",
    "Chaque ligne de code est compilée « en temps réel » par un programme.\n",
    "On dit de ce programme qu'il interprète le code source.\n",
    "\n",
    "Cependant, ce serait faux de dire que la compilation n'intervient pas.\n",
    "L'interprète produit le code machine, au fur et à mesure de l'exécution du programme, en compilant chaque ligne du code source.\n",
    "\n",
    "Voici quelques exemples de langages interprétés : Basic, Matlab, PHP, Perl, Python.\n",
    "\n",
    "Et voici un exemple de code écrit en PHP :"
   ]
  },
  {
   "cell_type": "code",
   "execution_count": null,
   "metadata": {},
   "outputs": [],
   "source": [
    "<?php\n",
    "  echo \"Hello World!\";\n",
    "?>"
   ]
  },
  {
   "cell_type": "markdown",
   "metadata": {},
   "source": [
    "#### Avantages et inconvénients"
   ]
  },
  {
   "cell_type": "markdown",
   "metadata": {},
   "source": [
    "Les avantages généralement retenus pour l'utilisation de langages « compilés », est qu'ils sont plus rapides à l'exécution que des langages interprétés, car l'interprète doit être lancé à chaque exécution du programme, ce qui mobilise systématiquement les ressources.\n",
    "\n",
    "Les langages interprétés offrent en revanche une certaine portabilité, ainsi qu'une facilité pour l'écriture du code. En effet, il n'est pas nécessaire de passer par la phase de compilation pour tester le code source."
   ]
  },
  {
   "cell_type": "markdown",
   "metadata": {},
   "source": [
    "### Les paradigmes ou types de programmation\n",
    "***"
   ]
  },
  {
   "cell_type": "markdown",
   "metadata": {},
   "source": [
    "En informatique, un **paradigme** est une façon de programmer, un modèle qui oriente notre\n",
    "manière de penser pour formuler et résoudre un problème.\n",
    "\n",
    "Certains langages sont conçus pour supporter un paradigme en particulier (Smalltalk et Java\n",
    "supportent la programmation orientée objet, tandis que Haskell est conçu pour la programmation fonctionnelle), alors que d'autres supportent des paradigmes multiples (à l'image de C++, Common Lisp, OCaml, Python, Ruby ou Scheme)."
   ]
  },
  {
   "cell_type": "markdown",
   "metadata": {},
   "source": [
    "#### La programmation impérative"
   ]
  },
  {
   "cell_type": "markdown",
   "metadata": {},
   "source": [
    "C'est le paradigme le plus ancien. Les recettes de cuisine et les itinéraires routiers sont deux exemples familiers qui s'apparentent à de la programmation impérative. \n",
    "La grande majorité des langages de programmation sont impératifs. Les opérations sont décrites en termes de séquences d'instructions exécutées par l'ordinateur pour modifier l'état du programme.\n",
    "L'exemple typique d'instruction est l'affectation de variable, la notion de variable étant différente de la notion mathématique. \n",
    "\n",
    "Il s'agit historiquement des premiers langages, même si de nombreux langages modernes utilisent toujours ce principe de fonctionnement."
   ]
  },
  {
   "cell_type": "markdown",
   "metadata": {},
   "source": [
    "#### La programmation procédurale"
   ]
  },
  {
   "cell_type": "markdown",
   "metadata": {},
   "source": [
    "La programmation procédurale est un paradigme de programmation basé sur le concept d'appel de procédures. \n",
    "\n",
    "Une procédure, aussi appelée routine, sous-routine, méthode ou fonction (à ne pas confondre avec les fonctions de la programmation fonctionnelle vue plus loin) contient simplement une série d'étapes à réaliser.\n",
    "N'importe quelle procédure peut être appelée à n'importe quelle étape de l'exécution du programme, incluant d'autres procédures voire la procédure elle-même (récursivité).\n",
    "\n",
    "La programmation procédurale est souvent un meilleur choix qu'une simple programmation impérative. \n",
    "Il n'y a que des avantages à découper un programme en procédures :\n",
    "- on a la possibilité de réutiliser le même code à différents emplacements dans le programme\n",
    "sans avoir à le retaper ;\n",
    "- il est plus simple de suivre l'évolution du programme (la programmation procédurale permet de se passer d'instructions « GOTO » ou \"JUMP\", évitant ainsi bien souvent de se retrouver avec un programme compliqué qui part dans toutes les directions) ;\n",
    "- on crée un code plus modulaire et structuré ;\n",
    "- chaque programmeur peut développer son bout de code de son côté."
   ]
  },
  {
   "cell_type": "markdown",
   "metadata": {},
   "source": [
    "#### La programmation fonctionnelle"
   ]
  },
  {
   "cell_type": "markdown",
   "metadata": {},
   "source": [
    "Pour décrire un programme, le paradigme fonctionnel utilise un emboîtement de fonctions que l'on peut voir comme des « boîtes noires » que l'on peut imbriquer les unes dans les autres. \n",
    "Chaque boîte possédant plusieurs paramètres en entrée mais une seule sortie, elle ne peut sortir qu'une seule valeur possible pour chaque série de valeurs présentées en entrée. \n",
    "\n",
    "Un programme est donc une application, au sens mathématique, qui ne donne qu'un seul résultat pour chaque ensemble de valeurs en entrée. \n"
   ]
  },
  {
   "cell_type": "markdown",
   "metadata": {},
   "source": [
    "#### La programmation Orientée Objet"
   ]
  },
  {
   "cell_type": "markdown",
   "metadata": {},
   "source": [
    "La programmation orientée objet (notée POO) ou programmation par objet, est un paradigme de\n",
    "programmation informatique qui consiste en la définition et l'assemblage de « briques logicielles » appelées objets.\n",
    "\n",
    "Un objet représente un concept, une idée ou toute entité du monde physique, comme une voiture, une personne ou encore une page d'un livre.\n",
    "Il possède une structure interne et un comportement, et il sait interagir avec ses pairs.\n",
    "Il s'agit donc de représenter ces objets et leurs relations ; l'interaction entre les objets via leurs relations permet de concevoir et réaliser les fonctionnalités attendues, de mieux résoudre le ou les problèmes.\n",
    "Dès lors, l'étape de modélisation revêt une importance majeure et nécessaire pour la POO. C'est elle qui permet de transcrire les éléments du réel sous forme virtuelle.\n",
    "\n",
    "**Remarque :**\n",
    "Une différence dans le style de programmation peut amener également à une différenciation sur le vocabulaire utilisé. Par exemple, entre la programmaton Orientée Objet et la programmation fonctionnelle, les objets ont des *méthodes* et non des *fonctions*, des *attributs* et non des *variables*, on *invoque* une méthode, alors qu'on *appelle* une fonction, etc."
   ]
  },
  {
   "cell_type": "markdown",
   "metadata": {},
   "source": [
    "#### La programmation événementielle"
   ]
  },
  {
   "cell_type": "markdown",
   "metadata": {},
   "source": [
    "Dans la programmation événementielle, les composants d'une application événementielle interagissent entre eux et avec l'environnement. \n",
    "Ils communiquent en réponse à des événements.\n",
    "Ces événements peuvent correspondre à une action de l'utilisateur : un clic sur un bouton de commande, une écriture dans une zone de texte, un choix dans une case d'option ou une case à cocher, le déplacement d'un objet, etc. \n",
    "Ils peuvent aussi être déclenchés par le système : chargement d'une feuille, un top déclenché par l'horloge, etc.\n"
   ]
  },
  {
   "cell_type": "markdown",
   "metadata": {},
   "source": [
    "#### La programmation logique"
   ]
  },
  {
   "cell_type": "markdown",
   "metadata": {},
   "source": [
    "Un programme logique est très différent des programmes écrits dans un autre style.\n",
    "Il est très évolué permettant d'exprimer de façon naturelle les textes du langage naturel.\n",
    "Il est très adapté au calcul symbolique et au raisonnement.\n",
    "En effet, écrire un programme dans un langage logique consiste simplement à énoncer une suite de faits et de règles de déduction puis à poser des questions (appelées aussi buts).\n",
    "Il n'y a pas d'instruction, pas d'affectation et pas de boucles implicites, un programme logique est une suite de clauses particulières appelées clauses de Horn qui sont des clauses ayant au plus un littéral positif. \n",
    "\n",
    "On distingue trois types de clauses de Horn :\n",
    "- faits : clauses ayant un littéral positif et aucun littéral négatif\n",
    "- règles : clauses ayant un littéral positif et plusieurs littéraux négatifs\n",
    "- questions (buts) : clauses ayant un ou plusieurs littéraux négatifs et aucun littéral positif.\n",
    "\n",
    "Le langage **Prolog** est le langage le plus connu du style déclaratif. Il est le résultat d'un mariage réussi entre le raisonnement automatique et le traitement du langage naturel."
   ]
  },
  {
   "cell_type": "markdown",
   "metadata": {},
   "source": [
    "#### Les langages de requête"
   ]
  },
  {
   "cell_type": "markdown",
   "metadata": {},
   "source": [
    "On peut être amené à manipuler de grandes quantités d'informations sur de longues périodes.\n",
    "De plus, ces informations doivent être conservées pour plus tard : elle ne doivent pas disparaître quand on éteint l'ordinateur.\n",
    "Pour cela, un ordinateur contient toujours une ou plusieurs mémoires de masse, des mémoires qui peuvent conserver des informations quand l'ordinateur s'éteint. \n",
    "Reste qu'utiliser ces mémoires de masse pour stocker de grandes quantités de données n'est pas une mince affaire.\n",
    "\n",
    "Un langage de requête est un langage informatique utilisé pour accéder aux données d'une base de données ou d'autres systèmes d'information.\n",
    "Il permet d'obtenir les données vérifiant certaines conditions (on parle de critères de sélection), comme par exemple, toutes les personnes qui habitent une ville donnée.\n",
    "Les données peuvent être triées, elles peuvent également être regroupées suivant les valeurs d'une donnée particulière (par exemple, on va regrouper toutes les personnes qui habitent la même rue).\n",
    "\n",
    "La grammaire d'un langage de requête est adaptée à la structure des données interrogées. Le langage de requête le plus connu et le plus utilisé est SQL.\n",
    "\n",
    "Un langage de requête ne possède pas la puissance d'un langage de programmation : entrées/sorties, instructions conditionnelles, boucles et affectations. Pour certains traitements il est donc nécessaire de coupler le langage SQL avec un langage de programmation plus complet."
   ]
  },
  {
   "cell_type": "markdown",
   "metadata": {},
   "source": [
    "#### Exemple"
   ]
  },
  {
   "cell_type": "markdown",
   "metadata": {},
   "source": [
    "Imaginons une base de données appelée « client » qui contient des informations sur les clients d’une entreprise. <br/><br/>\n",
    "\n",
    "![Table client](Ressources/table-client.png) <br/>\n",
    "\n",
    "Si l’ont veut avoir la liste de toutes les villes des clients, il suffit d’effectuer la requête suivante."
   ]
  },
  {
   "cell_type": "markdown",
   "metadata": {},
   "source": [
    "SELECT ville\n",
    "FROM client"
   ]
  },
  {
   "cell_type": "markdown",
   "metadata": {},
   "source": [
    "Et voici le résultat obtenu : <br/><br/>\n",
    "\n",
    "![Select ville sur la table client](Ressources/table-client-select-ville.png) <br/>\n",
    " \n",
    " Autre exemple :"
   ]
  },
  {
   "cell_type": "code",
   "execution_count": null,
   "metadata": {},
   "outputs": [],
   "source": [
    "SELECT prenom, nom\n",
    "FROM client"
   ]
  },
  {
   "cell_type": "markdown",
   "metadata": {},
   "source": [
    "Résultat : <br/><br/>\n",
    "\n",
    "![Select prenom et nom sur la table client](Ressources/table-client-select-prenom-nom.png) <br/>\n",
    "\n",
    "Et dernier exemple :"
   ]
  },
  {
   "cell_type": "code",
   "execution_count": null,
   "metadata": {},
   "outputs": [],
   "source": [
    "SELECT *\n",
    "FROM client"
   ]
  },
  {
   "cell_type": "markdown",
   "metadata": {},
   "source": [
    "Résultat : <br/><br/>\n",
    "\n",
    "![Select * sur la table client](Ressources/table-client-select-all2.png)"
   ]
  },
  {
   "cell_type": "markdown",
   "metadata": {},
   "source": [
    "## Synthèse"
   ]
  },
  {
   "cell_type": "markdown",
   "metadata": {},
   "source": [
    "Tout au long de ce cours, nous avons pu voir que les langages de programmation sont caractérisés par un ensemble de constructions élémentaires : séquences, affectation, conditionnelles, boucles (il y a aussi la création et l'appel de fonctions, qui feront l'objet d'un autre cours).\n",
    "Ce sont des traits communs à différents langages de programmation, ce qui souligne une certaine unité de ces langages.\n",
    "\n",
    "Malgré cette unité des langages de programmation, nous savons aussi remarqué qu'il existe une multitude de langages de programmation différents, chacun avec leurs traits particuliers, ce qui souligne alors cette fois, la diversité de ces langages.\n",
    "\n",
    "Plus tard, nous verrons que l'on peut évaluer la qualité d'un programme à son algorithme en en étudiant sa **complexité**. Et la diversité des langages de programmation fait que parfois, un même algorithme ne peut pas être implémenté tel qu'il est dans chacun des langages, et qu'alors la complexité des différents programmes obtenus nous permet de les comparer.\n",
    "\n",
    "\n",
    "\n",
    "\n",
    "Ressource: Mr TAAE Tony                                                                                                        "
   ]
  },
  {
   "cell_type": "markdown",
   "metadata": {},
   "source": [
    "## Origine du document"
   ]
  },
  {
   "cell_type": "markdown",
   "metadata": {},
   "source": [
    "Mr TAAE Tony                                                                                                        "
   ]
  }
 ],
 "metadata": {
  "kernelspec": {
   "display_name": "Python 3",
   "language": "python",
   "name": "python3"
  },
  "language_info": {
   "codemirror_mode": {
    "name": "ipython",
    "version": 3
   },
   "file_extension": ".py",
   "mimetype": "text/x-python",
   "name": "python",
   "nbconvert_exporter": "python",
   "pygments_lexer": "ipython3",
   "version": "3.7.6"
  },
  "toc": {
   "base_numbering": 1,
   "nav_menu": {},
   "number_sections": true,
   "sideBar": true,
   "skip_h1_title": false,
   "title_cell": "Tables des matières",
   "title_sidebar": "Sommaire",
   "toc_cell": false,
   "toc_position": {
    "height": "calc(100% - 180px)",
    "left": "10px",
    "top": "150px",
    "width": "259.594px"
   },
   "toc_section_display": true,
   "toc_window_display": true
  }
 },
 "nbformat": 4,
 "nbformat_minor": 2
}
